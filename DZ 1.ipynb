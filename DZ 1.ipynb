{
 "cells": [
  {
   "attachments": {},
   "cell_type": "markdown",
   "metadata": {},
   "source": [
    "Задание 1"
   ]
  },
  {
   "cell_type": "code",
   "execution_count": null,
   "metadata": {},
   "outputs": [],
   "source": [
    "def x_powered(x: float = 1, n: int = 1) -> float:\n",
    "\tif n == 0:\n",
    "\t\treturn 1\n",
    "\telif n == 1:\n",
    "\t\treturn x\n",
    "\telif n < 0:\n",
    "\t\treturn 1/(x*x_powered(x, abs(n)-1))\n",
    "\telif n > 1:\n",
    "\t\treturn x*x_powered(x, n-1)"
   ]
  },
  {
   "attachments": {},
   "cell_type": "markdown",
   "metadata": {},
   "source": [
    "Задание 2"
   ]
  },
  {
   "cell_type": "code",
   "execution_count": null,
   "metadata": {},
   "outputs": [],
   "source": [
    "def max_list(list_of_numbers: list = []) -> float: \n",
    "    maximum = list_of_numbers[0]\n",
    "    for number in list_of_numbers:\n",
    "        if number > maximum:\n",
    "            maximum = number\n",
    "    return maximum"
   ]
  },
  {
   "attachments": {},
   "cell_type": "markdown",
   "metadata": {},
   "source": [
    "Задание 3"
   ]
  },
  {
   "cell_type": "code",
   "execution_count": 4,
   "metadata": {},
   "outputs": [],
   "source": [
    "def n_row_pascal_triangle(n: int = 0) -> list:\n",
    "\tbase = [[0, 1, 0]]\n",
    "\tfor i in range(n):\n",
    "\t\tfor j in range(len(base[0])-1):\n",
    "\t\t\tbase[0][j] += base[0][j+1]\n",
    "\t\tbase[0].insert(0,0)\n",
    "\treturn base"
   ]
  },
  {
   "attachments": {},
   "cell_type": "markdown",
   "metadata": {},
   "source": [
    "Задание 4"
   ]
  },
  {
   "cell_type": "code",
   "execution_count": 5,
   "metadata": {},
   "outputs": [],
   "source": [
    "def sort_list(lst: list = None) -> list:\n",
    "    for i in range(len(lst)-1):\n",
    "        for j in range(len(lst)-1-i):\n",
    "            if lst[j] > lst[j+1]:\n",
    "                lst[j], lst[j+1] = lst[j+1], lst[j]\n",
    "    return lst"
   ]
  },
  {
   "attachments": {},
   "cell_type": "markdown",
   "metadata": {},
   "source": [
    "Задание 5"
   ]
  },
  {
   "cell_type": "code",
   "execution_count": 54,
   "metadata": {},
   "outputs": [],
   "source": [
    "class NeuralNetwork():\n",
    "    def __init__(self, weight: int = 1, nick: str = None):\n",
    "        self.weight = weight\n",
    "        self.nick = nick\n",
    "    def forward(self, data: list = None) -> None:\n",
    "        for i in range(len(data)):\n",
    "            data[i] = data[i] * self.weight\n",
    "            return data\n",
    "    def backward(self, loss: float = 6e-3) -> list:\n",
    "        for i in range(len(data)):\n",
    "            data[i] = data[i]/loss\n",
    "        return data"
   ]
  },
  {
   "cell_type": "code",
   "execution_count": 64,
   "metadata": {},
   "outputs": [
    {
     "name": "stdout",
     "output_type": "stream",
     "text": [
      "[0.0554569]\n"
     ]
    }
   ],
   "source": [
    "import numpy as np\n",
    "\n",
    "nn = NeuralNetwork(weight = 3, nick = \"doggy\")\n",
    "data = np.random.rand(100, 1)[0]\n",
    "nn.forward(data)\n",
    "loss = np.random.rand(1)[0]\n",
    "prediction = nn.backward(loss)\n",
    "print(prediction)"
   ]
  }
 ],
 "metadata": {
  "kernelspec": {
   "display_name": "Python 3",
   "language": "python",
   "name": "python3"
  },
  "language_info": {
   "codemirror_mode": {
    "name": "ipython",
    "version": 3
   },
   "file_extension": ".py",
   "mimetype": "text/x-python",
   "name": "python",
   "nbconvert_exporter": "python",
   "pygments_lexer": "ipython3",
   "version": "3.11.9"
  },
  "orig_nbformat": 4
 },
 "nbformat": 4,
 "nbformat_minor": 2
}
